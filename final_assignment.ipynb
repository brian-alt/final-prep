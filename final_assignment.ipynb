{
 "cells": [
  {
   "cell_type": "code",
   "execution_count": 1,
   "metadata": {},
   "outputs": [],
   "source": [
    "#Import Libraries \n",
    "import pandas as pd"
   ]
  },
  {
   "cell_type": "code",
   "execution_count": 2,
   "metadata": {},
   "outputs": [
    {
     "name": "stdout",
     "output_type": "stream",
     "text": [
      "             Timestamp  Age  Gender         Country state self_employed  \\\n",
      "0  2014-08-27 11:29:31   37  Female   United States    IL           NaN   \n",
      "1  2014-08-27 11:29:37   44       M   United States    IN           NaN   \n",
      "2  2014-08-27 11:29:44   32    Male          Canada   NaN           NaN   \n",
      "3  2014-08-27 11:29:46   31    Male  United Kingdom   NaN           NaN   \n",
      "4  2014-08-27 11:30:22   31    Male   United States    TX           NaN   \n",
      "\n",
      "  family_history treatment work_interfere    no_employees  ...  \\\n",
      "0             No       Yes          Often            6-25  ...   \n",
      "1             No        No         Rarely  More than 1000  ...   \n",
      "2             No        No         Rarely            6-25  ...   \n",
      "3            Yes       Yes          Often          26-100  ...   \n",
      "4             No        No          Never         100-500  ...   \n",
      "\n",
      "                leave mental_health_consequence phys_health_consequence  \\\n",
      "0       Somewhat easy                        No                      No   \n",
      "1          Don't know                     Maybe                      No   \n",
      "2  Somewhat difficult                        No                      No   \n",
      "3  Somewhat difficult                       Yes                     Yes   \n",
      "4          Don't know                        No                      No   \n",
      "\n",
      "      coworkers supervisor mental_health_interview phys_health_interview  \\\n",
      "0  Some of them        Yes                      No                 Maybe   \n",
      "1            No         No                      No                    No   \n",
      "2           Yes        Yes                     Yes                   Yes   \n",
      "3  Some of them         No                   Maybe                 Maybe   \n",
      "4  Some of them        Yes                     Yes                   Yes   \n",
      "\n",
      "  mental_vs_physical obs_consequence comments  \n",
      "0                Yes              No      NaN  \n",
      "1         Don't know              No      NaN  \n",
      "2                 No              No      NaN  \n",
      "3                 No             Yes      NaN  \n",
      "4         Don't know              No      NaN  \n",
      "\n",
      "[5 rows x 27 columns]\n"
     ]
    }
   ],
   "source": [
    "#Read CSV\n",
    "raw_data = pd.read_csv('survey.csv')\n",
    "print(raw_data.head())"
   ]
  },
  {
   "cell_type": "code",
   "execution_count": 3,
   "metadata": {},
   "outputs": [],
   "source": [
    "#Create Function\n",
    "def location_raw(df):\n",
    "    location_df = df.groupby('Country')['treatment'].count().reset_index()\n",
    "    return location_df"
   ]
  },
  {
   "cell_type": "code",
   "execution_count": 4,
   "metadata": {},
   "outputs": [
    {
     "name": "stdout",
     "output_type": "stream",
     "text": [
      "                   Country  treatment\n",
      "0                Australia         21\n",
      "1                  Austria          3\n",
      "2             Bahamas, The          1\n",
      "3                  Belgium          6\n",
      "4   Bosnia and Herzegovina          1\n",
      "5                   Brazil          6\n",
      "6                 Bulgaria          4\n",
      "7                   Canada         72\n",
      "8                    China          1\n",
      "9                 Colombia          2\n",
      "10              Costa Rica          1\n",
      "11                 Croatia          2\n",
      "12          Czech Republic          1\n",
      "13                 Denmark          2\n",
      "14                 Finland          3\n",
      "15                  France         13\n",
      "16                 Georgia          1\n",
      "17                 Germany         45\n",
      "18                  Greece          2\n",
      "19                 Hungary          1\n",
      "20                   India         10\n",
      "21                 Ireland         27\n",
      "22                  Israel          5\n",
      "23                   Italy          7\n",
      "24                   Japan          1\n",
      "25                  Latvia          1\n",
      "26                  Mexico          3\n",
      "27                 Moldova          1\n",
      "28             Netherlands         27\n",
      "29             New Zealand          8\n",
      "30                 Nigeria          1\n",
      "31                  Norway          1\n",
      "32             Philippines          1\n",
      "33                  Poland          7\n",
      "34                Portugal          2\n",
      "35                 Romania          1\n",
      "36                  Russia          3\n",
      "37               Singapore          4\n",
      "38                Slovenia          1\n",
      "39            South Africa          6\n",
      "40                   Spain          1\n",
      "41                  Sweden          7\n",
      "42             Switzerland          7\n",
      "43                Thailand          1\n",
      "44          United Kingdom        185\n",
      "45           United States        751\n",
      "46                 Uruguay          1\n",
      "47                Zimbabwe          1\n"
     ]
    }
   ],
   "source": [
    "treatment_df = location_raw(raw_data)\n",
    "print(treatment_df)"
   ]
  },
  {
   "cell_type": "code",
   "execution_count": 5,
   "metadata": {},
   "outputs": [],
   "source": [
    "#Create Function\n",
    "def location_count_raw(df):\n",
    "    location_dataframe = df.groupby(['Country','treatment'])['Timestamp'].count().reset_index()\n",
    "    return location_dataframe"
   ]
  },
  {
   "cell_type": "code",
   "execution_count": 6,
   "metadata": {},
   "outputs": [
    {
     "name": "stdout",
     "output_type": "stream",
     "text": [
      "           Country treatment  Timestamp\n",
      "1        Australia       Yes         13\n",
      "3     Bahamas, The       Yes          1\n",
      "5          Belgium       Yes          1\n",
      "8           Brazil       Yes          2\n",
      "10        Bulgaria       Yes          2\n",
      "12          Canada       Yes         37\n",
      "16         Croatia       Yes          2\n",
      "18         Denmark       Yes          2\n",
      "20         Finland       Yes          1\n",
      "22          France       Yes          2\n",
      "25         Germany       Yes         21\n",
      "29           India       Yes          3\n",
      "31         Ireland       Yes         13\n",
      "34           Italy       Yes          1\n",
      "35           Japan       Yes          1\n",
      "38          Mexico       Yes          1\n",
      "39         Moldova       Yes          1\n",
      "41     Netherlands       Yes          9\n",
      "43     New Zealand       Yes          5\n",
      "48          Poland       Yes          4\n",
      "53       Singapore       Yes          1\n",
      "54        Slovenia       Yes          1\n",
      "56    South Africa       Yes          4\n",
      "59          Sweden       Yes          2\n",
      "61     Switzerland       Yes          3\n",
      "64  United Kingdom       Yes         93\n",
      "66   United States       Yes        410\n",
      "68        Zimbabwe       Yes          1\n"
     ]
    }
   ],
   "source": [
    "treatment_count_df = location_count_raw(raw_data)\n",
    "yes_treatment = treatment_count_df[treatment_count_df['treatment'] == \"Yes\"]\n",
    "print(yes_treatment)"
   ]
  },
  {
   "cell_type": "code",
   "execution_count": 7,
   "metadata": {},
   "outputs": [],
   "source": [
    "#Import Library\n",
    "import matplotlib.pyplot as plt "
   ]
  },
  {
   "cell_type": "code",
   "execution_count": 8,
   "metadata": {},
   "outputs": [
    {
     "data": {
      "image/png": "[encoded data removed]",
      "text/plain": [
       "<Figure size 432x288 with 1 Axes>"
      ]
     },
     "metadata": {
      "needs_background": "light"
     },
     "output_type": "display_data"
    }
   ],
   "source": [
    "#Chart characteristics\n",
    "fig, ax = plt.subplots()\n",
    "ax.bar(x=yes_treatment.Country,height=yes_treatment.Timestamp)\n",
    "plt.title('Number of Treated people by Country')\n",
    "plt.xticks(rotation='vertical')\n",
    "plt.xlabel('Country')\n",
    "plt.ylabel('Number of Treated people')\n",
    "plt.show()"
   ]
  },
  {
   "cell_type": "code",
   "execution_count": 9,
   "metadata": {},
   "outputs": [
    {
     "name": "stdout",
     "output_type": "stream",
     "text": [
      "           Country  treatment\n",
      "0        Australia         21\n",
      "2     Bahamas, The          1\n",
      "3          Belgium          6\n",
      "5           Brazil          6\n",
      "6         Bulgaria          4\n",
      "7           Canada         72\n",
      "11         Croatia          2\n",
      "13         Denmark          2\n",
      "14         Finland          3\n",
      "15          France         13\n",
      "17         Germany         45\n",
      "20           India         10\n",
      "21         Ireland         27\n",
      "23           Italy          7\n",
      "24           Japan          1\n",
      "26          Mexico          3\n",
      "27         Moldova          1\n",
      "28     Netherlands         27\n",
      "29     New Zealand          8\n",
      "33          Poland          7\n",
      "37       Singapore          4\n",
      "38        Slovenia          1\n",
      "39    South Africa          6\n",
      "41          Sweden          7\n",
      "42     Switzerland          7\n",
      "44  United Kingdom        185\n",
      "45   United States        751\n",
      "47        Zimbabwe          1\n"
     ]
    }
   ],
   "source": [
    "unique_country = list(yes_treatment.Country.unique())\n",
    "treatment_df2 = treatment_df[treatment_df[\"Country\"].isin(unique_country)]\n",
    "print(treatment_df2)"
   ]
  },
  {
   "cell_type": "code",
   "execution_count": 11,
   "metadata": {},
   "outputs": [
    {
     "data": {
      "image/png": "[encoded data removed]",
      "text/plain": [
       "<Figure size 432x288 with 1 Axes>"
      ]
     },
     "metadata": {
      "needs_background": "light"
     },
     "output_type": "display_data"
    }
   ],
   "source": [
    "#Chart characteristics\n",
    "fig, ax = plt.subplots()\n",
    "ax.bar(x=treatment_df2.Country,height=treatment_df2.treatment)\n",
    "plt.title('Number of People with Mental Illness by Country')\n",
    "plt.xticks(rotation='vertical')\n",
    "plt.xlabel('Country')\n",
    "plt.ylabel('Number of People who have Mental Illness')\n",
    "plt.show()"
   ]
  },
  {
   "cell_type": "code",
   "execution_count": null,
   "metadata": {},
   "outputs": [],
   "source": []
  }
 ],
 "metadata": {
  "kernelspec": {
   "display_name": "Python 3",
   "language": "python",
   "name": "python3"
  },
  "language_info": {
   "codemirror_mode": {
    "name": "ipython",
    "version": 3
   },
   "file_extension": ".py",
   "mimetype": "text/x-python",
   "name": "python",
   "nbconvert_exporter": "python",
   "pygments_lexer": "ipython3",
   "version": "3.7.3"
  }
 },
 "nbformat": 4,
 "nbformat_minor": 2
}
